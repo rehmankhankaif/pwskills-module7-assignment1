{
 "cells": [
  {
   "cell_type": "markdown",
   "metadata": {},
   "source": [
    "1. What is the difference between interpreted and compiled languages?\n",
    "\n",
    "Interpreted languages execute code line-by-line during runtime, without converting the entire program into machine code beforehand. This makes them more flexible for rapid development but slower in execution. Python, JavaScript, and Ruby are examples of interpreted languages.\n",
    "Compiled languages, on the other hand, require the source code to be translated into machine code by a compiler before execution. This process ensures faster runtime performance but involves an extra compilation step. Examples include C, C++, and Rust.\n",
    "\n",
    "\n",
    "2. What is exception handling in Python?\n",
    "\n",
    "Exception handling in Python provides a way to deal with runtime errors gracefully, preventing the program from crashing. By using constructs like try, except, else, and finally, developers can capture specific errors, handle them appropriately, and ensure that the program continues running or exits cleanly. This mechanism is especially useful for scenarios like invalid input, file handling errors, or network issues.\n",
    "\n",
    "\n",
    "3. What is the purpose of the finally block in exception handling?\n",
    "\n",
    "The finally block is used to execute code that must run regardless of whether an exception occurs or not. It is often used for cleanup tasks such as closing files, releasing resources, or disconnecting from a database. For example:\n",
    "\n",
    "try:\n",
    "    file = open(\"data.txt\", \"r\")\n",
    "    # Perform file operations\n",
    "except Exception as e:\n",
    "    print(\"Error:\", e)\n",
    "finally:\n",
    "    file.close()  # Ensures file is closed\n",
    "\n",
    "\n",
    "4. What is logging in Python?\n",
    "\n",
    "Logging is a process of recording events, messages, or errors that occur during a program’s execution. Python’s logging module provides a standardized way to generate logs at different severity levels like DEBUG, INFO, WARNING, ERROR, and CRITICAL. Logging is essential for debugging, tracking application flow, and monitoring production systems.\n",
    "\n",
    "\n",
    "5. What is the significance of the __del__ method in Python?\n",
    "\n",
    "The __del__ method, also known as the destructor, is called when an object is about to be destroyed by the garbage collector. It can be used to perform cleanup actions, such as closing files or releasing network connections. However, relying on __del__ is discouraged as its execution timing is unpredictable, especially in cases of circular references.\n",
    "\n",
    "\n",
    "6. What is the difference between import and from ... import in Python?\n",
    "\t•\timport: Imports the entire module, requiring you to use the module name to access its members.\n",
    "Example:\n",
    "\n",
    "import math\n",
    "print(math.sqrt(16))  # Access sqrt via math\n",
    "\n",
    "\n",
    "\t•\tfrom ... import: Imports specific members of a module directly, making them accessible without the module prefix.\n",
    "Example:\n",
    "\n",
    "from math import sqrt\n",
    "print(sqrt(16))  # Access sqrt directly\n",
    "\n",
    "\n",
    "7. How can you handle multiple exceptions in Python?\n",
    "\n",
    "Python allows handling multiple exceptions using either separate except blocks for each exception or combining them in a single except clause. For example:\n",
    "\n",
    "try:\n",
    "    result = 10 / 0\n",
    "except ZeroDivisionError:\n",
    "    print(\"Division by zero error\")\n",
    "except ValueError:\n",
    "    print(\"Value error\")\n",
    "\n",
    "Alternatively:\n",
    "\n",
    "except (ZeroDivisionError, ValueError):\n",
    "    print(\"Error occurred\")\n",
    "\n",
    "\n",
    "8. What is the purpose of the with statement when handling files in Python?\n",
    "\n",
    "The with statement simplifies file handling by automatically managing file resources. It ensures the file is properly closed after its block is executed, even if an error occurs. Example:\n",
    "\n",
    "with open(\"data.txt\", \"r\") as file:\n",
    "    data = file.read()\n",
    "# No need to call file.close()\n",
    "\n",
    "\n",
    "9. What is the difference between multithreading and multiprocessing?\n",
    "\t•\tMultithreading: Multiple threads execute within the same process, sharing memory space. It is efficient for I/O-bound tasks but limited by Python’s Global Interpreter Lock (GIL).\n",
    "\t•\tMultiprocessing: Spawns separate processes, each with its memory space. This is more suited for CPU-bound tasks as it bypasses the GIL and can fully utilize multi-core CPUs.\n",
    "\n",
    "\n",
    "10. What are the advantages of using logging in a program?\n",
    "\n",
    "Logging provides several benefits, including error tracking, performance monitoring, and debugging. It allows developers to analyze the program’s behavior in production without exposing sensitive details to users. Logs can also be stored persistently for audits or post-mortem analysis.\n",
    "\n",
    "\n",
    "11. What is memory management in Python?\n",
    "\n",
    "Python’s memory management involves allocating, tracking, and reclaiming memory for objects automatically. It uses techniques like reference counting and garbage collection to ensure efficient memory usage and prevent memory leaks.\n",
    "\n",
    "\n",
    "12. What are the basic steps involved in exception handling in Python?\n",
    "\t1.\tWrite the risky code in a try block.\n",
    "\t2.\tCatch specific exceptions in except blocks.\n",
    "\t3.\tOptionally use else to execute code if no exceptions occur.\n",
    "\t4.\tUse finally to run cleanup actions regardless of exceptions.\n",
    "\n",
    "\n",
    "13. Why is memory management important in Python?\n",
    "\n",
    "Effective memory management ensures optimal use of resources, prevents memory leaks, and avoids program crashes. Python’s automatic memory management reduces developer overhead but requires awareness of issues like circular references.\n",
    "\n",
    "\n",
    "14. What is the role of try and except in exception handling?\n",
    "\n",
    "The try block contains code that may raise exceptions, while the except block defines how to handle those exceptions. Together, they ensure that errors are managed gracefully without crashing the program.\n",
    "\n",
    "\n",
    "15. How does Python’s garbage collection system work?\n",
    "\n",
    "Python’s garbage collector automatically frees memory by deallocating objects with zero references. It also detects and breaks cycles of objects referencing each other.\n",
    "\n",
    "\n",
    "16. What is the purpose of the else block in exception handling?\n",
    "\n",
    "The else block executes if no exceptions occur in the try block. It separates error-prone code from normal execution logic for clarity.\n",
    "\n",
    "\n",
    "17. What are the common logging levels in Python?\n",
    "\t1.\tDEBUG: Detailed diagnostic information.\n",
    "\t2.\tINFO: General information about program execution.\n",
    "\t3.\tWARNING: Indicators of potential issues.\n",
    "\t4.\tERROR: Serious problems that need attention.\n",
    "\t5.\tCRITICAL: Severe errors causing program termination.\n",
    "\n",
    "\n",
    "18. What is the difference between os.fork() and multiprocessing in Python?\n",
    "\n",
    "os.fork() creates a child process in Unix-like systems but requires manual resource management. The multiprocessing module provides a cross-platform way to create and manage processes.\n",
    "\n",
    "\n",
    "19. What is the importance of closing a file in Python?\n",
    "\n",
    "Closing a file releases system resources and ensures data integrity by writing buffered data to disk. Failing to close files can lead to resource leaks.\n",
    "\n",
    "\n",
    "20. What is the difference between file.read() and file.readline()?\n",
    "\t•\tfile.read(): Reads the entire file or a specified number of bytes.\n",
    "\t•\tfile.readline(): Reads one line at a time, useful for processing large files.\n",
    "\n",
    "\n",
    "21. What is the logging module in Python used for?\n",
    "\n",
    "The logging module provides tools to record log messages, format them, and direct them to various outputs like files, consoles, or remote servers.\n",
    "\n",
    "\n",
    "22. What is the os module in Python used for in file handling?\n",
    "\n",
    "The os module offers functions to interact with the operating system, such as creating, renaming, or deleting files and directories.\n",
    "\n",
    "\n",
    "23. What are the challenges associated with memory management in Python?\n",
    "\n",
    "Managing circular references and avoiding performance bottlenecks due to the Global Interpreter Lock (GIL) are notable challenges in Python’s memory management.\n",
    "\n",
    "\n",
    "24. How do you raise an exception manually in Python?\n",
    "\n",
    "We can use the raise keyword to generate an exception explicitly. Example:\n",
    "\n",
    "if age < 18:\n",
    "    raise ValueError(\"Age must be 18 or older.\")\n",
    "\n",
    "\n",
    "25. Why is it important to use multithreading in certain applications?\n",
    "\n",
    "Multithreading improves responsiveness and performance in I/O-bound tasks, such as file reading or network requests. It enables concurrent execution, making applications faster and more efficient.\n"
   ]
  },
  {
   "cell_type": "markdown",
   "metadata": {},
   "source": []
  },
  {
   "cell_type": "markdown",
   "metadata": {},
   "source": []
  },
  {
   "cell_type": "markdown",
   "metadata": {},
   "source": []
  },
  {
   "cell_type": "code",
   "execution_count": 1,
   "metadata": {},
   "outputs": [],
   "source": [
    "# 1. How can you open a file for writing in Python and write a string to it?\n",
    "\n",
    "# To open a file for writing in Python, we use the open() function with mode 'w'. If the file does not exist, it is created. If it exists, the content will be overwritten. We use the write() method to write a string. Example:\n",
    "\n",
    "with open(\"example.txt\", \"w\") as file:\n",
    "    file.write(\"Hello, World!\")"
   ]
  },
  {
   "cell_type": "code",
   "execution_count": 2,
   "metadata": {},
   "outputs": [
    {
     "name": "stdout",
     "output_type": "stream",
     "text": [
      "Hello, World!\n"
     ]
    }
   ],
   "source": [
    "# 2. Write a Python program to read the contents of a file and print each line.\n",
    "\n",
    "with open(\"example.txt\", \"r\") as file:\n",
    "    for line in file:\n",
    "        print(line.strip())"
   ]
  },
  {
   "cell_type": "code",
   "execution_count": 4,
   "metadata": {},
   "outputs": [
    {
     "name": "stdout",
     "output_type": "stream",
     "text": [
      "File does not exist!\n"
     ]
    }
   ],
   "source": [
    "# 3. How would you handle a case where the file doesn’t exist while trying to open it for reading?\n",
    "\n",
    "try:\n",
    "    with open(\"non_existent_file.txt\", \"r\") as file:\n",
    "        content = file.read()\n",
    "except FileNotFoundError:\n",
    "    print(\"File does not exist!\")\n"
   ]
  },
  {
   "cell_type": "code",
   "execution_count": 8,
   "metadata": {},
   "outputs": [],
   "source": [
    "# 4. Write a Python script that reads from one file and writes its content to another file.\n",
    "\n",
    "with open(\"source.txt\", \"r\") as source_file:\n",
    "    content = source_file.read()\n",
    "\n",
    "with open(\"destination.txt\", \"w\") as dest_file:\n",
    "    dest_file.write(content)\n"
   ]
  },
  {
   "cell_type": "code",
   "execution_count": 9,
   "metadata": {},
   "outputs": [
    {
     "name": "stdout",
     "output_type": "stream",
     "text": [
      "Cannot divide by zero!\n"
     ]
    }
   ],
   "source": [
    "# 5. How would you catch and handle division by zero error in Python?\n",
    "\n",
    "try:\n",
    "    result = 10 / 0\n",
    "except ZeroDivisionError:\n",
    "    print(\"Cannot divide by zero!\")\n"
   ]
  },
  {
   "cell_type": "code",
   "execution_count": 10,
   "metadata": {},
   "outputs": [],
   "source": [
    "# 6. Write a Python program that logs an error message to a log file when a division by zero exception occurs.\n",
    "\n",
    "import logging\n",
    "\n",
    "logging.basicConfig(filename=\"errors.log\", level=logging.ERROR)\n",
    "\n",
    "try:\n",
    "    result = 10 / 0\n",
    "except ZeroDivisionError as e:\n",
    "    logging.error(\"Division by zero error occurred: %s\", e)\n"
   ]
  },
  {
   "cell_type": "code",
   "execution_count": 11,
   "metadata": {},
   "outputs": [],
   "source": [
    "# 7. How do you log information at different levels (INFO, ERROR, WARNING) in Python using the logging module?\n",
    "\n",
    "import logging\n",
    "\n",
    "logging.basicConfig(level=logging.DEBUG)  # Set the lowest level to log everything\n",
    "\n",
    "logging.info(\"This is an INFO message\")\n",
    "logging.warning(\"This is a WARNING message\")\n",
    "logging.error(\"This is an ERROR message\")\n"
   ]
  },
  {
   "cell_type": "code",
   "execution_count": 12,
   "metadata": {},
   "outputs": [],
   "source": [
    "# 8. Write a program to handle a file opening error using exception handling.\n",
    "\n",
    "try:\n",
    "    with open(\"example.txt\", \"r\") as file:\n",
    "        content = file.read()\n",
    "except FileNotFoundError:\n",
    "    print(\"File not found. Please check the file path.\")\n"
   ]
  },
  {
   "cell_type": "code",
   "execution_count": 13,
   "metadata": {},
   "outputs": [
    {
     "name": "stdout",
     "output_type": "stream",
     "text": [
      "['Hello, World!']\n"
     ]
    }
   ],
   "source": [
    "# 9. How can you read a file line by line and store its content in a list in Python?\n",
    "\n",
    "lines = []\n",
    "with open(\"example.txt\", \"r\") as file:\n",
    "    for line in file:\n",
    "        lines.append(line.strip())  # Add each line to the list without newlines\n",
    "print(lines)\n"
   ]
  },
  {
   "cell_type": "code",
   "execution_count": 14,
   "metadata": {},
   "outputs": [],
   "source": [
    "# 10. How can you append data to an existing file in Python?\n",
    "\n",
    "with open(\"example.txt\", \"a\") as file:\n",
    "    file.write(\"\\nAppended text.\")\n"
   ]
  },
  {
   "cell_type": "code",
   "execution_count": 15,
   "metadata": {},
   "outputs": [
    {
     "name": "stdout",
     "output_type": "stream",
     "text": [
      "Key 'age' does not exist in the dictionary!\n"
     ]
    }
   ],
   "source": [
    "# 11. Write a Python program that uses a try-except block to handle an error when attempting to access a dictionary key that doesn’t exist.\n",
    "\n",
    "data = {\"name\": \"John\"}\n",
    "\n",
    "try:\n",
    "    value = data[\"age\"]\n",
    "except KeyError:\n",
    "    print(\"Key 'age' does not exist in the dictionary!\")\n"
   ]
  },
  {
   "cell_type": "code",
   "execution_count": 16,
   "metadata": {},
   "outputs": [
    {
     "name": "stdout",
     "output_type": "stream",
     "text": [
      "Invalid input. Could not convert to an integer.\n"
     ]
    }
   ],
   "source": [
    "# 12. Write a program that demonstrates using multiple except blocks to handle different types of exceptions.\n",
    "\n",
    "try:\n",
    "    number = int(\"abc\")\n",
    "    result = 10 / 0\n",
    "except ValueError:\n",
    "    print(\"Invalid input. Could not convert to an integer.\")\n",
    "except ZeroDivisionError:\n",
    "    print(\"Cannot divide by zero.\")\n"
   ]
  },
  {
   "cell_type": "code",
   "execution_count": 17,
   "metadata": {},
   "outputs": [],
   "source": [
    "# 13. How would you check if a file exists before attempting to read it in Python?\n",
    "\n",
    "import os\n",
    "\n",
    "if os.path.exists(\"example.txt\"):\n",
    "    with open(\"example.txt\", \"r\") as file:\n",
    "        content = file.read()\n",
    "else:\n",
    "    print(\"File does not exist.\")\n"
   ]
  },
  {
   "cell_type": "code",
   "execution_count": 18,
   "metadata": {},
   "outputs": [],
   "source": [
    "# 14. Write a program that uses the logging module to log both informational and error messages.\n",
    "\n",
    "import logging\n",
    "\n",
    "logging.basicConfig(filename=\"app.log\", level=logging.DEBUG)\n",
    "\n",
    "logging.info(\"The program has started.\")\n",
    "try:\n",
    "    result = 10 / 0\n",
    "except ZeroDivisionError as e:\n",
    "    logging.error(\"An error occurred: %s\", e)\n"
   ]
  },
  {
   "cell_type": "code",
   "execution_count": 19,
   "metadata": {},
   "outputs": [
    {
     "name": "stdout",
     "output_type": "stream",
     "text": [
      "Hello, World!\n",
      "Appended text.\n"
     ]
    }
   ],
   "source": [
    "# 15. Write a Python program that prints the content of a file and handles the case when the file is empty.\n",
    "\n",
    "try:\n",
    "    with open(\"example.txt\", \"r\") as file:\n",
    "        content = file.read()\n",
    "        if not content.strip():  # Check if file is empty\n",
    "            print(\"The file is empty.\")\n",
    "        else:\n",
    "            print(content)\n",
    "except FileNotFoundError:\n",
    "    print(\"File not found.\")\n"
   ]
  },
  {
   "cell_type": "code",
   "execution_count": 21,
   "metadata": {},
   "outputs": [
    {
     "name": "stdout",
     "output_type": "stream",
     "text": [
      "\u001b[33mDEPRECATION: Configuring installation scheme with distutils config files is deprecated and will no longer work in the near future. If you are using a Homebrew or Linuxbrew Python, please see discussion at https://github.com/Homebrew/homebrew-core/issues/76621\u001b[0m\u001b[33m\n",
      "\u001b[0mCollecting memory_profiler\n",
      "  Downloading memory_profiler-0.61.0-py3-none-any.whl.metadata (20 kB)\n",
      "Requirement already satisfied: psutil in /Users/kaifrehmankhan/Library/Python/3.9/lib/python/site-packages (from memory_profiler) (5.9.4)\n",
      "Downloading memory_profiler-0.61.0-py3-none-any.whl (31 kB)\n",
      "Installing collected packages: memory_profiler\n",
      "\u001b[33m  DEPRECATION: Configuring installation scheme with distutils config files is deprecated and will no longer work in the near future. If you are using a Homebrew or Linuxbrew Python, please see discussion at https://github.com/Homebrew/homebrew-core/issues/76621\u001b[0m\u001b[33m\n",
      "\u001b[0m\u001b[33mDEPRECATION: Configuring installation scheme with distutils config files is deprecated and will no longer work in the near future. If you are using a Homebrew or Linuxbrew Python, please see discussion at https://github.com/Homebrew/homebrew-core/issues/76621\u001b[0m\u001b[33m\n",
      "\u001b[0mSuccessfully installed memory_profiler-0.61.0\n",
      "\n",
      "\u001b[1m[\u001b[0m\u001b[34;49mnotice\u001b[0m\u001b[1;39;49m]\u001b[0m\u001b[39;49m A new release of pip is available: \u001b[0m\u001b[31;49m24.2\u001b[0m\u001b[39;49m -> \u001b[0m\u001b[32;49m24.3.1\u001b[0m\n",
      "\u001b[1m[\u001b[0m\u001b[34;49mnotice\u001b[0m\u001b[1;39;49m]\u001b[0m\u001b[39;49m To update, run: \u001b[0m\u001b[32;49mpython3.9 -m pip install --upgrade pip\u001b[0m\n",
      "Note: you may need to restart the kernel to use updated packages.\n",
      "ERROR: Could not find file /var/folders/k9/nyl_jjvd67x1bq28fxw8w7x00000gn/T/ipykernel_59786/4286781188.py\n"
     ]
    },
    {
     "data": {
      "text/plain": [
       "49995000"
      ]
     },
     "execution_count": 21,
     "metadata": {},
     "output_type": "execute_result"
    }
   ],
   "source": [
    "# 16. Demonstrate how to use memory profiling to check the memory usage of a small program.\n",
    "%pip install memory_profiler\n",
    "from memory_profiler import profile\n",
    "\n",
    "@profile\n",
    "def test_function():\n",
    "    data = [i for i in range(10000)]\n",
    "    return sum(data)\n",
    "\n",
    "test_function()\n"
   ]
  },
  {
   "cell_type": "code",
   "execution_count": 22,
   "metadata": {},
   "outputs": [],
   "source": [
    "# 17. Write a Python program to create and write a list of numbers to a file, one number per line.\n",
    "\n",
    "numbers = [1, 2, 3, 4, 5]\n",
    "\n",
    "with open(\"numbers.txt\", \"w\") as file:\n",
    "    for number in numbers:\n",
    "        file.write(f\"{number}\\n\")\n"
   ]
  },
  {
   "cell_type": "code",
   "execution_count": 23,
   "metadata": {},
   "outputs": [],
   "source": [
    "# 18. How would you implement a basic logging setup that logs to a file with rotation after 1MB?\n",
    "\n",
    "import logging\n",
    "from logging.handlers import RotatingFileHandler\n",
    "\n",
    "handler = RotatingFileHandler(\"app.log\", maxBytes=1_000_000, backupCount=3)\n",
    "logging.basicConfig(handlers=[handler], level=logging.DEBUG)\n",
    "\n",
    "logging.info(\"This is a log message.\")\n"
   ]
  },
  {
   "cell_type": "code",
   "execution_count": 24,
   "metadata": {},
   "outputs": [
    {
     "name": "stdout",
     "output_type": "stream",
     "text": [
      "Key not found in the dictionary.\n"
     ]
    }
   ],
   "source": [
    "# 19. Write a program that handles both IndexError and KeyError using a try-except block.\n",
    "\n",
    "data = {\"name\": \"Alice\"}\n",
    "lst = [1, 2, 3]\n",
    "\n",
    "try:\n",
    "    value = data[\"age\"]  # KeyError\n",
    "    element = lst[5]     # IndexError\n",
    "except KeyError:\n",
    "    print(\"Key not found in the dictionary.\")\n",
    "except IndexError:\n",
    "    print(\"Index out of range.\")\n"
   ]
  },
  {
   "cell_type": "code",
   "execution_count": 25,
   "metadata": {},
   "outputs": [
    {
     "name": "stdout",
     "output_type": "stream",
     "text": [
      "Hello, World!\n",
      "Appended text.\n"
     ]
    }
   ],
   "source": [
    "# 20. How would you open a file and read its contents using a context manager in Python?\n",
    "\n",
    "with open(\"example.txt\", \"r\") as file:\n",
    "    content = file.read()\n",
    "    print(content)\n"
   ]
  },
  {
   "cell_type": "code",
   "execution_count": 26,
   "metadata": {},
   "outputs": [
    {
     "name": "stdout",
     "output_type": "stream",
     "text": [
      "The word 'Python' appears 0 times.\n"
     ]
    }
   ],
   "source": [
    "\n",
    "# 21. Write a Python program that reads a file and prints the number of occurrences of a specific word.\n",
    "\n",
    "word_to_count = \"Python\"\n",
    "count = 0\n",
    "\n",
    "with open(\"example.txt\", \"r\") as file:\n",
    "    for line in file:\n",
    "        count += line.lower().count(word_to_count.lower())\n",
    "\n",
    "print(f\"The word '{word_to_count}' appears {count} times.\")\n"
   ]
  },
  {
   "cell_type": "code",
   "execution_count": 27,
   "metadata": {},
   "outputs": [
    {
     "name": "stdout",
     "output_type": "stream",
     "text": [
      "Hello, World!\n",
      "Appended text.\n"
     ]
    }
   ],
   "source": [
    "\n",
    "# 22. How can you check if a file is empty before attempting to read its contents?\n",
    "\n",
    "import os\n",
    "\n",
    "if os.stat(\"example.txt\").st_size == 0:\n",
    "    print(\"The file is empty.\")\n",
    "else:\n",
    "    with open(\"example.txt\", \"r\") as file:\n",
    "        print(file.read())\n"
   ]
  },
  {
   "cell_type": "code",
   "execution_count": 28,
   "metadata": {},
   "outputs": [],
   "source": [
    "# 23. Write a Python program that writes a log to a file when an error occurs during file handling. -->\n",
    "\n",
    "import logging\n",
    "\n",
    "logging.basicConfig(filename=\"file_errors.log\", level=logging.ERROR)\n",
    "\n",
    "try:\n",
    "    with open(\"non_existent_file.txt\", \"r\") as file:\n",
    "        content = file.read()\n",
    "except FileNotFoundError as e:\n",
    "    logging.error(\"File handling error: %s\", e)"
   ]
  }
 ],
 "metadata": {
  "kernelspec": {
   "display_name": "Python 3",
   "language": "python",
   "name": "python3"
  },
  "language_info": {
   "codemirror_mode": {
    "name": "ipython",
    "version": 3
   },
   "file_extension": ".py",
   "mimetype": "text/x-python",
   "name": "python",
   "nbconvert_exporter": "python",
   "pygments_lexer": "ipython3",
   "version": "3.9.19"
  }
 },
 "nbformat": 4,
 "nbformat_minor": 2
}
